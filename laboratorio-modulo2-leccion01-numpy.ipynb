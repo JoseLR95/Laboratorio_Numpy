{
 "cells": [
  {
   "cell_type": "markdown",
   "id": "6db588db",
   "metadata": {},
   "source": [
    "<div style=\"text-align: center;\">\n",
    "  <img src=\"https://github.com/Hack-io-Data/Imagenes/blob/main/01-LogosHackio/logo_naranja@4x.png?raw=true\" alt=\"esquema\" />\n",
    "</div>"
   ]
  },
  {
   "cell_type": "markdown",
   "id": "11308d6c",
   "metadata": {},
   "source": [
    "# Laboratorio de NumPy"
   ]
  },
  {
   "cell_type": "markdown",
   "id": "a19d4596",
   "metadata": {},
   "source": [
    "#### Ejercicio 1 - Crea un array de 1D con los números del 0 al 9."
   ]
  },
  {
   "cell_type": "code",
   "execution_count": 1,
   "id": "9d4e1d42",
   "metadata": {},
   "outputs": [
    {
     "data": {
      "text/plain": [
       "array([0, 1, 2, 3, 4, 5, 6, 7, 8, 9])"
      ]
     },
     "execution_count": 1,
     "metadata": {},
     "output_type": "execute_result"
    }
   ],
   "source": [
    "import numpy as np\n",
    "array1 = np.arange(0,10,1)\n",
    "array1"
   ]
  },
  {
   "cell_type": "markdown",
   "id": "f4a41f16",
   "metadata": {},
   "source": [
    "#### Ejercicio 2 - Convierte un array 1D en un array 2D con 2 filas y 5 columnas."
   ]
  },
  {
   "cell_type": "code",
   "execution_count": 2,
   "id": "3d7cef3c",
   "metadata": {},
   "outputs": [
    {
     "data": {
      "text/plain": [
       "array([[0, 1, 2, 3, 4],\n",
       "       [5, 6, 7, 8, 9]])"
      ]
     },
     "execution_count": 2,
     "metadata": {},
     "output_type": "execute_result"
    }
   ],
   "source": [
    "array2 = np.reshape(array1, (2,5))\n",
    "array2"
   ]
  },
  {
   "cell_type": "markdown",
   "id": "86bb8999",
   "metadata": {},
   "source": [
    "#### Ejercicio 3 - Encuentra los índices de los elementos con valor distinto de 0 en el siguiente array: [0, 2, 0, 3, 0, 4, 0]."
   ]
  },
  {
   "cell_type": "code",
   "execution_count": 3,
   "id": "d1fcfca4",
   "metadata": {},
   "outputs": [
    {
     "data": {
      "text/plain": [
       "(array([1, 3, 5]),)"
      ]
     },
     "execution_count": 3,
     "metadata": {},
     "output_type": "execute_result"
    }
   ],
   "source": [
    "lista_array3 = [0, 2, 0, 3, 0, 4, 0]\n",
    "array3 = np.array(lista_array3)\n",
    "distinto_0 = np.where(array3 > 0)\n",
    "distinto_0"
   ]
  },
  {
   "cell_type": "markdown",
   "id": "1c548419",
   "metadata": {},
   "source": [
    "#### Ejercicio 4 - Crea un array 3x3 con valores aleatorios entre 0 y 1."
   ]
  },
  {
   "cell_type": "code",
   "execution_count": 4,
   "id": "e1d4f19f",
   "metadata": {},
   "outputs": [
    {
     "data": {
      "text/plain": [
       "array([[1, 0, 1],\n",
       "       [0, 0, 1],\n",
       "       [0, 1, 1]], dtype=int32)"
      ]
     },
     "execution_count": 4,
     "metadata": {},
     "output_type": "execute_result"
    }
   ],
   "source": [
    "array4 = np.random.randint(0, 2, (3,3))\n",
    "array4"
   ]
  },
  {
   "cell_type": "markdown",
   "id": "aee82811",
   "metadata": {},
   "source": [
    "#### Ejercicio 5 - Crea un array de 10 números aleatorios y encuentra el valor máximo y mínimo."
   ]
  },
  {
   "cell_type": "code",
   "execution_count": 5,
   "id": "81fea76e",
   "metadata": {},
   "outputs": [
    {
     "name": "stdout",
     "output_type": "stream",
     "text": [
      "[0.86204645 0.51607972 0.37220453 0.35524457 0.64050707 0.2790565\n",
      " 0.11754514 0.72050042 0.65851988 0.59207582]\n",
      "0.11754514102094105\n",
      "0.8620464472602023\n"
     ]
    }
   ],
   "source": [
    "array5 = np.random.rand(10)\n",
    "minimo = np.min(array5)\n",
    "maximo = np.max(array5)\n",
    "print (array5)\n",
    "print (minimo)\n",
    "print (maximo)"
   ]
  },
  {
   "cell_type": "markdown",
   "id": "6559375b",
   "metadata": {},
   "source": [
    "#### Ejercicio 6 - Crea un array de una dimensión e inviértelo. "
   ]
  },
  {
   "cell_type": "code",
   "execution_count": 6,
   "id": "31385db0",
   "metadata": {},
   "outputs": [
    {
     "name": "stdout",
     "output_type": "stream",
     "text": [
      "[0 1 2 3 4 5 6 7 8]\n",
      "[8 7 6 5 4 3 2 1 0]\n"
     ]
    }
   ],
   "source": [
    "array6 = np.arange(0,9,1)\n",
    "print(array6)\n",
    "invertido = -np.sort(-array6)\n",
    "print (invertido)"
   ]
  },
  {
   "cell_type": "markdown",
   "id": "4457f046",
   "metadata": {},
   "source": [
    "\n",
    "#### Ejercicio 6 - Genera un array tridimensional de dimensiones (2, 3, 4) con valores enteros del 1 al 24.\n",
    "\n",
    "- Selecciona el primer `15` del array.\n",
    "\n",
    "- Selecciona todos los elementos del primer array. \n",
    "\n",
    "- Selecciona la última fila del último array\n"
   ]
  },
  {
   "cell_type": "code",
   "execution_count": 7,
   "id": "3cab04c9",
   "metadata": {},
   "outputs": [
    {
     "name": "stdout",
     "output_type": "stream",
     "text": [
      "[[[23 18  9 14]\n",
      "  [16  8  6 15]\n",
      "  [19  6  6 22]]\n",
      "\n",
      " [[13 10  5  2]\n",
      "  [22 10 12 11]\n",
      "  [19 12 19 23]]]\n",
      "---------\n",
      "(array([0]), array([1]), array([3]))\n",
      "---------\n",
      "[[23 18  9 14]\n",
      " [16  8  6 15]\n",
      " [19  6  6 22]]\n",
      "---------\n",
      "[19 12 19 23]\n"
     ]
    }
   ],
   "source": [
    "array7 = np.random.randint(1, 24, (2,3,4))\n",
    "print(array7)\n",
    "primer15 = np.where(array7 == 15)\n",
    "print(\"---------\")\n",
    "print (primer15)\n",
    "print(\"---------\")\n",
    "print (array7[0,:, :])\n",
    "print(\"---------\")\n",
    "print (array7[1,2, :])"
   ]
  },
  {
   "cell_type": "markdown",
   "id": "681b7e4e",
   "metadata": {},
   "source": [
    "\n",
    "#### Ejercicio 7 - Genera un array tridimensional de dimensiones (3, 2, 5) con valores enteros del 1 al 30.\n",
    "\n",
    "- Selecciona el subarray que contiene los dos primeros elementos de cada fila del primer array.\n",
    "\n",
    "- Selecciona el subarray que contiene todas las filas de los dos últimos arrays.\n"
   ]
  },
  {
   "cell_type": "code",
   "execution_count": 8,
   "id": "b008a9aa",
   "metadata": {},
   "outputs": [
    {
     "name": "stdout",
     "output_type": "stream",
     "text": [
      "[[[ 9 21 13 10 10]\n",
      "  [29 13 10 20 23]]\n",
      "\n",
      " [[24 17  7  1 28]\n",
      "  [25  8 20 17 28]]\n",
      "\n",
      " [[ 7 24 25 13 29]\n",
      "  [28 14 29  3 22]]]\n",
      "---------\n",
      "[[ 9 21]\n",
      " [29 13]]\n",
      "---------\n",
      "[[[24 17  7  1 28]\n",
      "  [25  8 20 17 28]]\n",
      "\n",
      " [[ 7 24 25 13 29]\n",
      "  [28 14 29  3 22]]]\n"
     ]
    }
   ],
   "source": [
    "array8 = np.random.randint(1, 30, (3,2,5))\n",
    "print(array8)\n",
    "print(\"---------\")\n",
    "print (array8[0,0:2,0:2])\n",
    "print(\"---------\")\n",
    "print (array8[1:3, :, :])"
   ]
  },
  {
   "cell_type": "markdown",
   "id": "4fabd9d0",
   "metadata": {},
   "source": [
    "#### Ejercicio 8 - Genera un array tridimensional de dimensiones (4, 3, 2) con valores enteros del 1 al 24.\n",
    "\n",
    "- Cambia todos los elementos de la segunda fila del segundo array por `0`.\n",
    "\n",
    "- Cambia todos los valores del último array a `-1`.\n"
   ]
  },
  {
   "cell_type": "code",
   "execution_count": 9,
   "id": "0ef45b69",
   "metadata": {},
   "outputs": [
    {
     "name": "stdout",
     "output_type": "stream",
     "text": [
      "[[[21  1]\n",
      "  [ 4  2]\n",
      "  [18  2]]\n",
      "\n",
      " [[10 15]\n",
      "  [ 8 20]\n",
      "  [20 13]]\n",
      "\n",
      " [[ 6 19]\n",
      "  [ 2 17]\n",
      "  [16 15]]\n",
      "\n",
      " [[12  9]\n",
      "  [22 16]\n",
      "  [21 11]]]\n",
      "---------\n",
      "[[[21  1]\n",
      "  [ 4  2]\n",
      "  [18  2]]\n",
      "\n",
      " [[10 15]\n",
      "  [ 0  0]\n",
      "  [20 13]]\n",
      "\n",
      " [[ 6 19]\n",
      "  [ 2 17]\n",
      "  [16 15]]\n",
      "\n",
      " [[-1 -1]\n",
      "  [-1 -1]\n",
      "  [-1 -1]]]\n"
     ]
    }
   ],
   "source": [
    "array9 = np.random.randint(1, 24, (4,3,2))\n",
    "print (array9)\n",
    "print(\"---------\")\n",
    "array9[1][1][:] = 0\n",
    "array9[3][:][:] = -1\n",
    "print (array9)"
   ]
  },
  {
   "cell_type": "markdown",
   "id": "c60bc3bb",
   "metadata": {},
   "source": [
    "\n",
    "#### Ejercicio 9 - Genera un array tridimensional de dimensiones (2, 4, 3) con valores enteros del -10 al 13.\n",
    "\n",
    "- Selecciona todos los elementos mayores a `5`.\n",
    "\n",
    "- Reemplaza todos los elementos negativos por `0`.\n"
   ]
  },
  {
   "cell_type": "code",
   "execution_count": 10,
   "id": "28bf9232",
   "metadata": {},
   "outputs": [
    {
     "name": "stdout",
     "output_type": "stream",
     "text": [
      "[[[  8  -5   2]\n",
      "  [ -3  -3   8]\n",
      "  [ -3  10  -4]\n",
      "  [ -8  -7  -5]]\n",
      "\n",
      " [[ -4   4  -4]\n",
      "  [  5  11  -3]\n",
      "  [ -9  -7  -5]\n",
      "  [-10   4  12]]]\n",
      "--------\n",
      "(array([0, 0, 0, 1, 1]), array([0, 1, 2, 1, 3]), array([0, 2, 1, 1, 2]))\n",
      "--------\n",
      "[[[ 8  0  2]\n",
      "  [ 0  0  8]\n",
      "  [ 0 10  0]\n",
      "  [ 0  0  0]]\n",
      "\n",
      " [[ 0  4  0]\n",
      "  [ 5 11  0]\n",
      "  [ 0  0  0]\n",
      "  [ 0  4 12]]]\n"
     ]
    }
   ],
   "source": [
    "array10 = np.random.randint(-10, 13, (2,4,3))\n",
    "print(array10)\n",
    "print(\"--------\")\n",
    "mayor5 = np.where(array10 > 5)\n",
    "print(mayor5)\n",
    "print(\"--------\")\n",
    "negativos = np.where(array10 < 0, 0, array10)\n",
    "print(negativos)\n"
   ]
  },
  {
   "cell_type": "markdown",
   "id": "ab38a3be",
   "metadata": {},
   "source": [
    "#### Ejercicio 10 - Genera un array tridimensional de dimensiones (3, 3, 3) con valores enteros del 1 al 27.\n",
    "\n",
    "- Selecciona el subarray del segundo array que contenga solo las dos primeras columnas.\n",
    "\n",
    "- Selecciona todos los elementos del tercer array que sean mayores que `20`.\n"
   ]
  },
  {
   "cell_type": "code",
   "execution_count": 11,
   "id": "78c979cf",
   "metadata": {},
   "outputs": [
    {
     "name": "stdout",
     "output_type": "stream",
     "text": [
      "[[[ 2 14  8]\n",
      "  [24  5  3]\n",
      "  [16  7 21]]\n",
      "\n",
      " [[17  7 12]\n",
      "  [11 18  9]\n",
      "  [24 20  2]]\n",
      "\n",
      " [[14 25 22]\n",
      "  [17 14 23]\n",
      "  [ 2 25  5]]]\n",
      "----------\n",
      "[[17  7]\n",
      " [11 18]\n",
      " [24 20]]\n",
      "----------\n",
      "(array([0, 0, 1, 2]), array([1, 2, 2, 1]))\n"
     ]
    }
   ],
   "source": [
    "array11 = np.random.randint(1, 27, (3,3,3))\n",
    "print(array11)\n",
    "print(\"----------\")\n",
    "print(array11[1, :, 0:2])\n",
    "print(\"----------\")\n",
    "mayor20 = np.where(array11[2,:,:] > 20)\n",
    "print(mayor20)"
   ]
  },
  {
   "cell_type": "markdown",
   "id": "f1a00156",
   "metadata": {},
   "source": [
    "#### Ejercicio 11 - Crea un array de 10 números aleatorios y reemplaza los valores máximos y mínimos por 0."
   ]
  },
  {
   "cell_type": "code",
   "execution_count": 12,
   "id": "990fa526",
   "metadata": {},
   "outputs": [
    {
     "name": "stdout",
     "output_type": "stream",
     "text": [
      "[5.12098135e-02 2.32546888e-01 4.66284820e-01 6.33713752e-01\n",
      " 7.94269555e-01 4.79186868e-01 4.25982963e-01 9.46421524e-01\n",
      " 3.15264666e-01 7.64504813e-04]\n",
      "------------\n",
      "[[0.05120981 0.23254689 0.46628482 0.63371375 0.79426955 0.47918687\n",
      "  0.42598296 0.         0.31526467 0.        ]]\n"
     ]
    }
   ],
   "source": [
    "array12 = np.random.rand(10)\n",
    "print(array12)\n",
    "print(\"------------\")\n",
    "min = np.min(array12)\n",
    "max = np.max(array12)\n",
    "array12mod = np.where([(array12 == max) | (array12 == min)], 0.00, array12) \n",
    "print(array12mod)"
   ]
  },
  {
   "cell_type": "markdown",
   "id": "781fafd0",
   "metadata": {},
   "source": [
    "#### Ejercicio 12 - Genera un array de 15 números aleatorios enteros entre 1 y 100 y reordénalo en orden ascendente."
   ]
  },
  {
   "cell_type": "code",
   "execution_count": 13,
   "id": "caa4fd47",
   "metadata": {},
   "outputs": [
    {
     "name": "stdout",
     "output_type": "stream",
     "text": [
      "[44 57 43 99 13 55 27 30 99 62 58 88 93 45  8]\n",
      "-----------\n",
      "[ 8 13 27 30 43 44 45 55 57 58 62 88 93 99 99]\n"
     ]
    }
   ],
   "source": [
    "array13 = np.random.randint(1,100,15)\n",
    "print(array13)\n",
    "print(\"-----------\")\n",
    "array13ord = np.sort(array13)\n",
    "print(array13ord)"
   ]
  },
  {
   "cell_type": "markdown",
   "id": "45f10c3e",
   "metadata": {},
   "source": [
    "#### Ejercicio 11 - Calcula la suma de los elementos a lo largo de las filas y columnas en una matriz 4x4."
   ]
  },
  {
   "cell_type": "code",
   "execution_count": 14,
   "id": "90220788",
   "metadata": {},
   "outputs": [
    {
     "name": "stdout",
     "output_type": "stream",
     "text": [
      "[[ 6 12 14 13]\n",
      " [10  5 13  0]\n",
      " [ 7  4 11  2]\n",
      " [ 0  1  2 12]]\n",
      "------------\n",
      "[23 22 40 27]\n",
      "[[45]\n",
      " [28]\n",
      " [24]\n",
      " [15]]\n"
     ]
    }
   ],
   "source": [
    "array14 = np.random.randint(0, 17, (4,4))\n",
    "print(array14)\n",
    "print(\"------------\")\n",
    "suma_columnas = np.sum(array14, axis = 0)\n",
    "suma_filas = np.sum(array14, axis =1)\n",
    "print(suma_columnas)\n",
    "print(suma_filas.reshape(4,1))"
   ]
  },
  {
   "cell_type": "markdown",
   "id": "69b9751a",
   "metadata": {},
   "source": [
    "#### Ejercicio 12 - Crea una matriz de 5x5 con valores en el borde igual a 1 y en el interior igual a 0."
   ]
  },
  {
   "cell_type": "code",
   "execution_count": 15,
   "id": "eca81323",
   "metadata": {},
   "outputs": [
    {
     "name": "stdout",
     "output_type": "stream",
     "text": [
      "[[1. 0. 0. 0. 1.]\n",
      " [1. 0. 0. 0. 1.]\n",
      " [1. 0. 0. 0. 1.]\n",
      " [1. 0. 0. 0. 1.]\n",
      " [1. 0. 0. 0. 1.]]\n"
     ]
    }
   ],
   "source": [
    "array15 = np.zeros((5,5))\n",
    "array15 [:,0:1] = 1\n",
    "array15 [:,4:5] = 1\n",
    "print(array15)"
   ]
  },
  {
   "cell_type": "markdown",
   "id": "1ea8068d",
   "metadata": {},
   "source": [
    "#### Ejercicio 13 - Calcula la media y la desviación estándar de un array de 10 números aleatorios."
   ]
  },
  {
   "cell_type": "code",
   "execution_count": 16,
   "id": "05dd579d",
   "metadata": {},
   "outputs": [
    {
     "name": "stdout",
     "output_type": "stream",
     "text": [
      "[0.59999979 0.4800758  0.03585155 0.83052622 0.93048516 0.81046122\n",
      " 0.80111693 0.708793   0.17736209 0.98865006]\n",
      "----------\n",
      "0.6363321812111764\n",
      "0.30133989536444133\n"
     ]
    }
   ],
   "source": [
    "array16 = np.random.rand(10)\n",
    "media = np.mean(array16)\n",
    "desviacion = np.std(array16)\n",
    "print(array16)\n",
    "print(\"----------\")\n",
    "print(media)\n",
    "print(desviacion)"
   ]
  },
  {
   "cell_type": "markdown",
   "id": "6add6669",
   "metadata": {},
   "source": [
    "#### Ejercicio 14 - Genera un array tridimensional de dimensiones (2, 3, 4) con valores enteros del 1 al 24.\n",
    "\n",
    "- Transpón el array para intercambiar los ejes de la forma (2, 3, 4) a (4, 3, 2).\n",
    "\n",
    "- Observa cómo cambian las posiciones de los elementos y sus índices después de la transposición. Explica en una celda de markdown que es lo que ha pasado. \n"
   ]
  },
  {
   "cell_type": "code",
   "execution_count": 17,
   "id": "ae98aca5",
   "metadata": {},
   "outputs": [
    {
     "name": "stdout",
     "output_type": "stream",
     "text": [
      "[[[ 4  2  5 21]\n",
      "  [12 23 12 23]\n",
      "  [ 7 17 18 23]]\n",
      "\n",
      " [[ 4 17  8  8]\n",
      "  [ 7 18 18 13]\n",
      "  [16 15 15 11]]]\n",
      "-----------\n",
      "[[[ 4  4]\n",
      "  [12  7]\n",
      "  [ 7 16]]\n",
      "\n",
      " [[ 2 17]\n",
      "  [23 18]\n",
      "  [17 15]]\n",
      "\n",
      " [[ 5  8]\n",
      "  [12 18]\n",
      "  [18 15]]\n",
      "\n",
      " [[21  8]\n",
      "  [23 13]\n",
      "  [23 11]]]\n"
     ]
    }
   ],
   "source": [
    "array17 = np.random.randint(1, 24, (2,3,4))\n",
    "print(array17)\n",
    "print(\"-----------\")\n",
    "array17_trans = np.transpose(array17, (2,1,0))\n",
    "print(array17_trans)"
   ]
  },
  {
   "cell_type": "markdown",
   "id": "2e0e5754",
   "metadata": {},
   "source": [
    "El método transpose cambia el orden de la matriz según queramos. Para ello tenemos que indicar el orden en el que queremos poner los ejes en la nueva matriz según su posición. Es decir, siguiendo la estructura (matriz, filas, columnas) deberemos indicar qué es lo que queremos cambiar a cada una de las posiciones. En este ejemplo tenemos una matriz (2,3,4) y queremos una nueva con forma (4,3,2) por lo que tenemos que indicar que en la matriz queremos el valor 4 que se encuentra en la posicion 2, en filas queremos el valor 3 que se encuentra en la posicion 1 y en columnas queremos el valor 2 que se encuentra en la posicion 0, por tanto debemos indicar (2,1,0)."
   ]
  },
  {
   "cell_type": "markdown",
   "id": "1e32b5e6",
   "metadata": {},
   "source": [
    "#### Ejercicio 15 - Genera un array tridimensional de dimensiones (3, 4, 2) con valores enteros del 1 al 24.\n",
    "\n",
    "- Transpón el array para intercambiar el primer y segundo eje, de manera que la nueva forma del array sea (4, 3, 2).\n"
   ]
  },
  {
   "cell_type": "code",
   "execution_count": 18,
   "id": "0146fdd6",
   "metadata": {},
   "outputs": [
    {
     "name": "stdout",
     "output_type": "stream",
     "text": [
      "[[[ 6 10]\n",
      "  [19  2]\n",
      "  [20  6]\n",
      "  [13 21]]\n",
      "\n",
      " [[11  5]\n",
      "  [ 3 15]\n",
      "  [22  3]\n",
      "  [19  4]]\n",
      "\n",
      " [[20  5]\n",
      "  [12 15]\n",
      "  [ 7 17]\n",
      "  [ 7 16]]]\n",
      "----------\n",
      "[[[ 6 10]\n",
      "  [11  5]\n",
      "  [20  5]]\n",
      "\n",
      " [[19  2]\n",
      "  [ 3 15]\n",
      "  [12 15]]\n",
      "\n",
      " [[20  6]\n",
      "  [22  3]\n",
      "  [ 7 17]]\n",
      "\n",
      " [[13 21]\n",
      "  [19  4]\n",
      "  [ 7 16]]]\n"
     ]
    }
   ],
   "source": [
    "array18 = np.random.randint(1, 24, (3,4,2))\n",
    "print(array18)\n",
    "print(\"----------\")\n",
    "array18_swp = np.swapaxes(array18, 0,1)\n",
    "print(array18_swp)"
   ]
  },
  {
   "cell_type": "markdown",
   "id": "fcf92586",
   "metadata": {},
   "source": [
    "#### Ejercicio 16 - Genera un array tridimensional de dimensiones (3, 2, 4) con valores enteros del 1 al 24.\n",
    "\n",
    "- Realiza una rotación completa de los ejes para convertir la forma original (3, 2, 4) en (4, 3, 2).\n"
   ]
  },
  {
   "cell_type": "code",
   "execution_count": 19,
   "id": "dd2c7f27",
   "metadata": {},
   "outputs": [
    {
     "name": "stdout",
     "output_type": "stream",
     "text": [
      "[[[ 6 21  9  1]\n",
      "  [ 1 21 22 18]]\n",
      "\n",
      " [[16 19 23  3]\n",
      "  [ 7  5 16 19]]\n",
      "\n",
      " [[15 13  8  8]\n",
      "  [12 16 15 17]]]\n",
      "---------\n",
      "[[[ 6  1]\n",
      "  [16  7]\n",
      "  [15 12]]\n",
      "\n",
      " [[21 21]\n",
      "  [19  5]\n",
      "  [13 16]]\n",
      "\n",
      " [[ 9 22]\n",
      "  [23 16]\n",
      "  [ 8 15]]\n",
      "\n",
      " [[ 1 18]\n",
      "  [ 3 19]\n",
      "  [ 8 17]]]\n"
     ]
    }
   ],
   "source": [
    "array19 = np.random.randint(1, 24, (3,2,4))\n",
    "array19_v = np.transpose(array19, (2,0,1))\n",
    "print(array19)\n",
    "print(\"---------\")\n",
    "print(array19_v)"
   ]
  },
  {
   "cell_type": "markdown",
   "id": "1795e11f",
   "metadata": {},
   "source": [
    "#### Ejercicio 17 - Manipulación de Arrays en 3D\n",
    "\n",
    "- Crea un array tridimensional con dimensiones (3, 4, 5) cuyos elementos sean números enteros aleatorios entre -10 y 10.\n",
    "\n",
    "- Crea un array vacío con la misma forma y dimensiones que el array creado anteriormente. Luego, reemplaza los valores de la matriz vacía basada en los valores del primer array bajo las siguientes condiciones:\n",
    "\n",
    "   - Si el valor es igual a la mediana, se reemplaza por `\"M\"`.\n",
    "\n",
    "   - Si el valor es mayor que la mediana, se reemplaza por `\"X\"`.\n",
    "\n",
    "   - Si el valor es menor que la mediana, se reemplaza por `\"Y\"`.\n",
    "\n",
    "   - Si el valor es igual al máximo, se reemplaza por `\"MAX\"`.\n",
    "\n",
    "   - Si el valor es igual al mínimo, se reemplaza por `\"MIN\"`.\n"
   ]
  },
  {
   "cell_type": "code",
   "execution_count": 20,
   "id": "d309b397",
   "metadata": {},
   "outputs": [
    {
     "data": {
      "text/plain": [
       "array([[['Y', 'X', 'Y', 'Y', 'X'],\n",
       "        ['Y', 'X', 'X', 'X', 'X'],\n",
       "        ['Y', 'Y', 'Y', 'Y', 'X'],\n",
       "        ['X', 'Y', 'MAX', 'Y', 'Y']],\n",
       "\n",
       "       [['X', 'Y', 'Y', 'Y', 'X'],\n",
       "        ['X', 'Y', 'X', 'X', 'Y'],\n",
       "        ['Y', 'X', 'Y', 'Y', 'Y'],\n",
       "        ['X', 'X', 'Y', 'Y', 'X']],\n",
       "\n",
       "       [['X', 'X', 'X', 'X', 'MAX'],\n",
       "        ['MAX', 'Y', 'X', 'X', 'MIN'],\n",
       "        ['MIN', 'Y', 'MAX', 'Y', 'Y'],\n",
       "        ['Y', 'Y', 'X', 'MIN', 'Y']]], dtype='<U11')"
      ]
     },
     "execution_count": 20,
     "metadata": {},
     "output_type": "execute_result"
    }
   ],
   "source": [
    "array20 = np.random.randint(-10, 10, (3,4,5), dtype = int)\n",
    "array_vacio  = np.empty((3, 4, 5), dtype = object)\n",
    "mediana = np.median(array20)\n",
    "max = np.max(array20)\n",
    "min = np.min(array20)\n",
    "array_vacio = np.where(array20 == mediana, \"M\", array20)\n",
    "array_vacio = np.where(array20>= mediana,  \"X\", array_vacio)\n",
    "array_vacio = np.where(array20 <= mediana, \"Y\", array_vacio)\n",
    "array_vacio = np.where(array20 == min, \"MIN\", array_vacio)\n",
    "array_vacio = np.where(array20 == max, \"MAX\", array_vacio)\n",
    "array_vacio\n"
   ]
  },
  {
   "cell_type": "markdown",
   "id": "83794704",
   "metadata": {},
   "source": [
    "#### Ejercicio 18 - Verificación de Filas y Columnas Iguales\n",
    "\n",
    "Crea un array bidimensional de dimensiones 4x4, escribe un código para determinar si alguna fila es exactamente igual a alguna columna.\n",
    "\n",
    "**Reglas:**\n",
    "\n",
    "- No puedes usar funciones predefinidas de NumPy para comparar filas y columnas (`np.array_equal`, etc.).\n",
    "\n",
    "- Debes resolverlo con estructuras básicas de Python (bucles, condicionales, etc.).\n",
    "\n",
    "- Debes revisar si hay al menos una fila que coincida exactamente con alguna columna.\n",
    "\n",
    "**Pistas**:\n",
    "\n",
    "- Puedes recorrer cada fila y cada columna de la matriz usando bucles.\n",
    "\n",
    "- Para comparar una fila con una columna, puedes hacerlo elemento por elemento."
   ]
  },
  {
   "cell_type": "code",
   "execution_count": 21,
   "id": "afd51c60",
   "metadata": {},
   "outputs": [
    {
     "name": "stdout",
     "output_type": "stream",
     "text": [
      "[[[1 2 2 1]\n",
      "  [1 2 1 2]\n",
      "  [1 1 2 2]\n",
      "  [1 2 2 2]]\n",
      "\n",
      " [[2 1 2 1]\n",
      "  [1 2 1 2]\n",
      "  [2 1 2 2]\n",
      "  [2 2 1 2]]]\n",
      "si, la fila [1 2 1 2] es igual que la columna [1 2 1 2]\n",
      "si, la fila [2 1 2 2] es igual que la columna [2 1 2 2]\n"
     ]
    }
   ],
   "source": [
    "array21 = np.random.randint(1, 3, (2,4,4))\n",
    "print(array21)\n",
    "for x in range(len(array21)):\n",
    "    for f in range(array21.shape[1]):\n",
    "        fila = array21[x, f, :]\n",
    "        for c in range(array21.shape[0]):\n",
    "            columna = array21[x, :, c]\n",
    "            if np.all(fila == columna):\n",
    "                print (f\"si, la fila {fila} es igual que la columna {columna}\")\n"
   ]
  }
 ],
 "metadata": {
  "kernelspec": {
   "display_name": "Python 3",
   "language": "python",
   "name": "python3"
  },
  "language_info": {
   "codemirror_mode": {
    "name": "ipython",
    "version": 3
   },
   "file_extension": ".py",
   "mimetype": "text/x-python",
   "name": "python",
   "nbconvert_exporter": "python",
   "pygments_lexer": "ipython3",
   "version": "3.12.5"
  }
 },
 "nbformat": 4,
 "nbformat_minor": 5
}
